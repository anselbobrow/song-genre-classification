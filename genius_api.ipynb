{
 "cells": [
  {
   "cell_type": "code",
   "execution_count": 51,
   "metadata": {},
   "outputs": [],
   "source": [
    "import requests\n",
    "import base64\n",
    "import musicbrainzngs"
   ]
  },
  {
   "cell_type": "code",
   "execution_count": 44,
   "metadata": {},
   "outputs": [],
   "source": [
    "client_id = '1148e6cb98484349995fb34331aafbb4'\n",
    "client_secret = '7332976c80414d38beb464bb45ce5011'\n",
    "\n",
    "data = {'grant_type': 'client_credentials'}\n",
    "url = 'https://accounts.spotify.com/api/token'\n",
    "headers = {'Authorization': f\"Basic {base64.b64encode(bytes(client_id + ':' + client_secret, 'utf-8')).decode()}\"}\n",
    "\n",
    "response = requests.post(url, headers=headers, data=data)\n",
    "token = response.json()['access_token']"
   ]
  },
  {
   "cell_type": "code",
   "execution_count": 46,
   "metadata": {},
   "outputs": [
    {
     "name": "stdout",
     "output_type": "stream",
     "text": [
      "['acoustic', 'afrobeat', 'alt-rock', 'alternative', 'ambient', 'anime', 'black-metal', 'bluegrass', 'blues', 'bossanova', 'brazil', 'breakbeat', 'british', 'cantopop', 'chicago-house', 'children', 'chill', 'classical', 'club', 'comedy', 'country', 'dance', 'dancehall', 'death-metal', 'deep-house', 'detroit-techno', 'disco', 'disney', 'drum-and-bass', 'dub', 'dubstep', 'edm', 'electro', 'electronic', 'emo', 'folk', 'forro', 'french', 'funk', 'garage', 'german', 'gospel', 'goth', 'grindcore', 'groove', 'grunge', 'guitar', 'happy', 'hard-rock', 'hardcore', 'hardstyle', 'heavy-metal', 'hip-hop', 'holidays', 'honky-tonk', 'house', 'idm', 'indian', 'indie', 'indie-pop', 'industrial', 'iranian', 'j-dance', 'j-idol', 'j-pop', 'j-rock', 'jazz', 'k-pop', 'kids', 'latin', 'latino', 'malay', 'mandopop', 'metal', 'metal-misc', 'metalcore', 'minimal-techno', 'movies', 'mpb', 'new-age', 'new-release', 'opera', 'pagode', 'party', 'philippines-opm', 'piano', 'pop', 'pop-film', 'post-dubstep', 'power-pop', 'progressive-house', 'psych-rock', 'punk', 'punk-rock', 'r-n-b', 'rainy-day', 'reggae', 'reggaeton', 'road-trip', 'rock', 'rock-n-roll', 'rockabilly', 'romance', 'sad', 'salsa', 'samba', 'sertanejo', 'show-tunes', 'singer-songwriter', 'ska', 'sleep', 'songwriter', 'soul', 'soundtracks', 'spanish', 'study', 'summer', 'swedish', 'synth-pop', 'tango', 'techno', 'trance', 'trip-hop', 'turkish', 'work-out', 'world-music']\n"
     ]
    }
   ],
   "source": [
    "headers = {'Authorization': 'Bearer ' + token}\n",
    "r = requests.get('https://api.spotify.com/v1/recommendations/available-genre-seeds', headers=headers)\n",
    "\n",
    "genres = r.json()['genres']"
   ]
  },
  {
   "cell_type": "code",
   "execution_count": 49,
   "metadata": {},
   "outputs": [
    {
     "name": "stdout",
     "output_type": "stream",
     "text": [
      "{'album_group': 'album', 'album_type': 'album', 'artists': [{'external_urls': {'spotify': 'https://open.spotify.com/artist/2vKiJjsgjgqIECUyYeIVvO'}, 'href': 'https://api.spotify.com/v1/artists/2vKiJjsgjgqIECUyYeIVvO', 'id': '2vKiJjsgjgqIECUyYeIVvO', 'name': 'Crown The Empire', 'type': 'artist', 'uri': 'spotify:artist:2vKiJjsgjgqIECUyYeIVvO'}], 'available_markets': ['AD', 'AE', 'AG', 'AL', 'AM', 'AO', 'AR', 'AT', 'AU', 'AZ', 'BA', 'BB', 'BD', 'BE', 'BF', 'BG', 'BH', 'BI', 'BJ', 'BN', 'BO', 'BR', 'BS', 'BT', 'BW', 'BZ', 'CA', 'CD', 'CG', 'CH', 'CI', 'CL', 'CM', 'CO', 'CR', 'CV', 'CW', 'CY', 'CZ', 'DE', 'DJ', 'DK', 'DM', 'DO', 'DZ', 'EC', 'EE', 'EG', 'ES', 'FI', 'FJ', 'FM', 'FR', 'GA', 'GB', 'GD', 'GE', 'GH', 'GM', 'GN', 'GQ', 'GR', 'GT', 'GW', 'GY', 'HK', 'HN', 'HR', 'HT', 'HU', 'ID', 'IE', 'IL', 'IQ', 'IS', 'IT', 'JM', 'JO', 'JP', 'KE', 'KG', 'KH', 'KI', 'KM', 'KN', 'KR', 'KW', 'KZ', 'LA', 'LB', 'LC', 'LI', 'LK', 'LR', 'LS', 'LT', 'LU', 'LV', 'LY', 'MA', 'MC', 'MD', 'ME', 'MG', 'MH', 'MK', 'ML', 'MN', 'MO', 'MR', 'MT', 'MU', 'MV', 'MW', 'MX', 'MY', 'MZ', 'NA', 'NE', 'NG', 'NI', 'NL', 'NO', 'NP', 'NR', 'NZ', 'OM', 'PA', 'PE', 'PG', 'PH', 'PK', 'PL', 'PS', 'PT', 'PW', 'PY', 'QA', 'RO', 'RS', 'RW', 'SA', 'SB', 'SC', 'SE', 'SG', 'SI', 'SK', 'SL', 'SM', 'SN', 'SR', 'ST', 'SV', 'SZ', 'TD', 'TG', 'TH', 'TJ', 'TL', 'TN', 'TO', 'TR', 'TT', 'TV', 'TW', 'TZ', 'UA', 'UG', 'US', 'UY', 'UZ', 'VC', 'VE', 'VN', 'VU', 'WS', 'XK', 'ZA', 'ZM', 'ZW'], 'external_urls': {'spotify': 'https://open.spotify.com/album/3Pjw4lSnuJesklPH3g3JcE'}, 'href': 'https://api.spotify.com/v1/albums/3Pjw4lSnuJesklPH3g3JcE', 'id': '3Pjw4lSnuJesklPH3g3JcE', 'images': [{'height': 640, 'url': 'https://i.scdn.co/image/ab67616d0000b273e61f0dc8e1beabe9c53e3769', 'width': 640}, {'height': 300, 'url': 'https://i.scdn.co/image/ab67616d00001e02e61f0dc8e1beabe9c53e3769', 'width': 300}, {'height': 64, 'url': 'https://i.scdn.co/image/ab67616d00004851e61f0dc8e1beabe9c53e3769', 'width': 64}], 'name': 'DOGMA', 'release_date': '2023-04-28', 'release_date_precision': 'day', 'total_tracks': 10, 'type': 'album', 'uri': 'spotify:album:3Pjw4lSnuJesklPH3g3JcE'}\n"
     ]
    }
   ],
   "source": [
    "headers = {'Authorization': 'Bearer ' + token}\n",
    "r = requests.get('https://api.spotify.com/v1/tracks/5HPrtYJqO2nNBfmj1ZrZja', headers=headers)\n",
    "\n",
    "print(r.json()['album'])"
   ]
  },
  {
   "cell_type": "code",
   "execution_count": 53,
   "metadata": {},
   "outputs": [],
   "source": [
    "# with musicbrainz api\n",
    "musicbrainzngs.set_useragent('LING227_Final_Proj', '1.0.0')"
   ]
  },
  {
   "cell_type": "code",
   "execution_count": 59,
   "metadata": {},
   "outputs": [
    {
     "name": "stdout",
     "output_type": "stream",
     "text": [
      "{'release-group': {'id': 'cbc85e47-e781-4aa8-9b77-8b1676b96521', 'type': 'Album', 'title': 'Tako Tsubo', 'first-release-date': '2021-03-26', 'primary-type': 'Album'}}\n"
     ]
    }
   ],
   "source": [
    "release_id = \"cbc85e47-e781-4aa8-9b77-8b1676b96521\"\n",
    "try:\n",
    "    result = musicbrainzngs.get_release_group_by_id(release_id)\n",
    "except Exception as e:\n",
    "    print(\"Something went wrong with the request: %s\" % e)\n",
    "else:\n",
    "    print(result)"
   ]
  }
 ],
 "metadata": {
  "kernelspec": {
   "display_name": "Python 3",
   "language": "python",
   "name": "python3"
  },
  "language_info": {
   "codemirror_mode": {
    "name": "ipython",
    "version": 3
   },
   "file_extension": ".py",
   "mimetype": "text/x-python",
   "name": "python",
   "nbconvert_exporter": "python",
   "pygments_lexer": "ipython3",
   "version": "3.9.1"
  },
  "orig_nbformat": 4
 },
 "nbformat": 4,
 "nbformat_minor": 2
}
